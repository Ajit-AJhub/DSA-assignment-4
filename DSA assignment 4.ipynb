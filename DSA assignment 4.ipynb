{
 "cells": [
  {
   "cell_type": "code",
   "execution_count": null,
   "id": "1d637fb8-66e8-4333-8ada-71ca9ad70b1a",
   "metadata": {},
   "outputs": [],
   "source": [
    "Question 1**\n",
    "Given three integer arrays arr1, arr2 and arr3 **sorted** in **strictly increasing** order, return a sorted array of **only** the \n",
    "integers that appeared in **all** three arrays.\n",
    "\n",
    "**Example 1:**\n",
    "\n",
    "Input: arr1 = [1,2,3,4,5], arr2 = [1,2,5,7,9], arr3 = [1,3,4,5,8]\n",
    "\n",
    "Output: [1,5]\n",
    "\n",
    "**Explanation:** Only 1 and 5 appeared in the three arrays.\n",
    "\n",
    "Ans-"
   ]
  },
  {
   "cell_type": "code",
   "execution_count": 1,
   "id": "b1be28ed-eb93-4307-a3f2-a2cc0b881c78",
   "metadata": {},
   "outputs": [],
   "source": [
    "def find_common_elements(arr1, arr2, arr3):\n",
    "    ptr1 = ptr2 = ptr3 = 0\n",
    "    result = []\n",
    "\n",
    "    while ptr1 < len(arr1) and ptr2 < len(arr2) and ptr3 < len(arr3):\n",
    "        if arr1[ptr1] == arr2[ptr2] == arr3[ptr3]:\n",
    "            result.append(arr1[ptr1])\n",
    "            ptr1 += 1\n",
    "            ptr2 += 1\n",
    "            ptr3 += 1\n",
    "        elif arr1[ptr1] < arr2[ptr2]:\n",
    "            ptr1 += 1\n",
    "        elif arr2[ptr2] < arr3[ptr3]:\n",
    "            ptr2 += 1\n",
    "        else:\n",
    "            ptr3 += 1\n",
    "\n",
    "    return result\n"
   ]
  },
  {
   "cell_type": "code",
   "execution_count": 2,
   "id": "c53e6f02-5f82-46a6-9324-eab71f37c59d",
   "metadata": {},
   "outputs": [
    {
     "name": "stdout",
     "output_type": "stream",
     "text": [
      "[1, 5]\n"
     ]
    }
   ],
   "source": [
    "arr1 = [1, 2, 3, 4, 5]\n",
    "arr2 = [1, 2, 5, 7, 9]\n",
    "arr3 = [1, 3, 4, 5, 8]\n",
    "\n",
    "print(find_common_elements(arr1, arr2, arr3))\n"
   ]
  },
  {
   "cell_type": "code",
   "execution_count": null,
   "id": "531159db-2249-439d-ab88-1284ec467746",
   "metadata": {},
   "outputs": [],
   "source": [
    "**Question 2**\n",
    "\n",
    "Given two **0-indexed** integer arrays nums1 and nums2, return *a list* answer *of size* 2 *where:*\n",
    "\n",
    "- answer[0] *is a list of all **distinct** integers in* nums1 *which are **not** present in* nums2*.*\n",
    "- answer[1] *is a list of all **distinct** integers in* nums2 *which are **not** present in* nums1.\n",
    "\n",
    "**Note** that the integers in the lists may be returned in **any** order.\n",
    "\n",
    "**Example 1:**\n",
    "\n",
    "**Input:** nums1 = [1,2,3], nums2 = [2,4,6]\n",
    "\n",
    "**Output:** [[1,3],[4,6]]\n",
    "\n",
    "**Explanation:**\n",
    "\n",
    "For nums1, nums1[1] = 2 is present at index 0 of nums2, whereas nums1[0] = 1 and nums1[2] = 3 are not present in nums2. Therefore, answer[0] = [1,3].\n",
    "\n",
    "For nums2, nums2[0] = 2 is present at index 1 of nums1, whereas nums2[1] = 4 and nums2[2] = 6 are not present in nums2. Therefore, answer[1] = [4,6].\n",
    "\n",
    "Ans2-"
   ]
  },
  {
   "cell_type": "code",
   "execution_count": 3,
   "id": "531ae6de-c0d3-4038-a30b-9d7886eb31b5",
   "metadata": {},
   "outputs": [],
   "source": [
    "def findDisappearedNumbers(nums1, nums2):\n",
    "    set1 = set(nums1)\n",
    "    set2 = set(nums2)\n",
    "    result1 = []\n",
    "    result2 = []\n",
    "\n",
    "    for num in nums1:\n",
    "        if num not in set2:\n",
    "            result1.append(num)\n",
    "\n",
    "    for num in nums2:\n",
    "        if num not in set1:\n",
    "            result2.append(num)\n",
    "\n",
    "    return [result1, result2]\n"
   ]
  },
  {
   "cell_type": "code",
   "execution_count": 4,
   "id": "d0b7a060-c5f2-4bd7-b4f6-2cf0d34db29a",
   "metadata": {},
   "outputs": [
    {
     "name": "stdout",
     "output_type": "stream",
     "text": [
      "[[1, 3], [4, 6]]\n"
     ]
    }
   ],
   "source": [
    "nums1 = [1, 2, 3]\n",
    "nums2 = [2, 4, 6]\n",
    "result = findDisappearedNumbers(nums1, nums2)\n",
    "print(result)\n"
   ]
  },
  {
   "cell_type": "code",
   "execution_count": null,
   "id": "689d88d8-714d-457c-9b5b-70ad82856358",
   "metadata": {},
   "outputs": [],
   "source": [
    "Question 3**\n",
    "Given a 2D integer array matrix, return *the **transpose** of* matrix.\n",
    "\n",
    "The **transpose** of a matrix is the matrix flipped over its main diagonal, switching the matrix's row and column indices.\n",
    "\n",
    "**Example 1:**\n",
    "\n",
    "Input: matrix = [[1,2,3],[4,5,6],[7,8,9]]\n",
    "\n",
    "Output: [[1,4,7],[2,5,8],[3,6,9]]\n",
    "\n",
    "Ans3-"
   ]
  },
  {
   "cell_type": "code",
   "execution_count": 5,
   "id": "c8d0a9c6-c435-4320-8479-06e2aa4927d2",
   "metadata": {},
   "outputs": [],
   "source": [
    "def transpose(matrix):\n",
    "    \n",
    "    rows = len(matrix)\n",
    "    cols = len(matrix[0]) if rows > 0 else 0\n",
    "    \n",
    "\n",
    "    transposed = [[0 for _ in range(rows)] for _ in range(cols)]\n",
    "    \n",
    "   \n",
    "    for i in range(rows):\n",
    "        for j in range(cols):\n",
    "            transposed[j][i] = matrix[i][j]\n",
    "    \n",
    "    return transposed\n"
   ]
  },
  {
   "cell_type": "code",
   "execution_count": 6,
   "id": "fac65f02-51f0-4045-b1f3-193bd820b2a1",
   "metadata": {},
   "outputs": [
    {
     "name": "stdout",
     "output_type": "stream",
     "text": [
      "[[1, 4, 7], [2, 5, 8], [3, 6, 9]]\n"
     ]
    }
   ],
   "source": [
    "matrix = [[1, 2, 3], [4, 5, 6], [7, 8, 9]]\n",
    "result = transpose(matrix)\n",
    "print(result)\n"
   ]
  },
  {
   "cell_type": "code",
   "execution_count": null,
   "id": "188a836b-8482-4590-b137-481533803848",
   "metadata": {},
   "outputs": [],
   "source": [
    "Question 4**\n",
    "Given an integer array nums of 2n integers, group these integers into n pairs (a1, b1), (a2, b2), ..., (an, bn) such that the sum of\n",
    "min(ai, bi) for all i is **maximized**. Return *the maximized sum*.\n",
    "\n",
    "**Example 1:**\n",
    "\n",
    "Input: nums = [1,4,3,2]\n",
    "\n",
    "Output: 4\n",
    "\n",
    "**Explanation:** All possible pairings (ignoring the ordering of elements) are:\n",
    "\n",
    "1. (1, 4), (2, 3) -> min(1, 4) + min(2, 3) = 1 + 2 = 3\n",
    "\n",
    "2. (1, 3), (2, 4) -> min(1, 3) + min(2, 4) = 1 + 2 = 3\n",
    "\n",
    "3. (1, 2), (3, 4) -> min(1, 2) + min(3, 4) = 1 + 3 = 4\n",
    "\n",
    "So the maximum possible sum is 4.\n",
    "\n",
    "Ans4 -"
   ]
  },
  {
   "cell_type": "code",
   "execution_count": 7,
   "id": "2a90686a-9d69-40f6-b479-865edf13dac9",
   "metadata": {},
   "outputs": [],
   "source": [
    "def array_pair_sum(nums):\n",
    "    nums.sort() \n",
    "    total_sum = 0\n",
    "    for i in range(0, len(nums), 2):\n",
    "        total_sum += nums[i]\n",
    "    return total_sum\n"
   ]
  },
  {
   "cell_type": "code",
   "execution_count": 8,
   "id": "6d1876ce-0455-4c28-8fdb-7f25c3126126",
   "metadata": {},
   "outputs": [
    {
     "name": "stdout",
     "output_type": "stream",
     "text": [
      "4\n"
     ]
    }
   ],
   "source": [
    "nums = [1, 4, 3, 2]\n",
    "print(array_pair_sum(nums))\n"
   ]
  },
  {
   "cell_type": "code",
   "execution_count": null,
   "id": "5a6d7a1a-4817-47b7-81f4-eed477f50d4d",
   "metadata": {},
   "outputs": [],
   "source": [
    "Question 5**\n",
    "You have n coins and you want to build a staircase with these coins. The staircase consists of k rows where the ith row has exactly i coins. \n",
    "The last row of the staircase **may be** incomplete.\n",
    "\n",
    "Given the integer n, return *the number of **complete rows** of the staircase you will build*.\n",
    "\n",
    "**Example 1:**\n",
    "\n",
    "[]()\n",
    "\n",
    "![v2.jpg](https://s3-us-west-2.amazonaws.com/secure.notion-static.com/4bd91cfa-d2b1-47b3-8197-a72e8dcfff4b/v2.jpg)\n",
    "\n",
    "**Input:** n = 5\n",
    "\n",
    "**Output:** 2\n",
    "\n",
    "**Explanation:** Because the 3rd row is incomplete, we return 2.\n",
    "\n",
    "Ans5-"
   ]
  },
  {
   "cell_type": "code",
   "execution_count": 9,
   "id": "7dddbdce-b216-40ba-b1fb-9173b3053f18",
   "metadata": {},
   "outputs": [],
   "source": [
    "def arrangeCoins(n):\n",
    "    left = 0\n",
    "    right = n\n",
    "\n",
    "    while left <= right:\n",
    "        middle = (left + right) // 2\n",
    "        sum = middle * (middle + 1) // 2\n",
    "\n",
    "        if sum <= n:\n",
    "            left = middle + 1\n",
    "        else:\n",
    "            right = middle - 1\n",
    "\n",
    "    return right\n"
   ]
  },
  {
   "cell_type": "code",
   "execution_count": 10,
   "id": "c9cfd7ba-2516-49e9-80ee-f1c4f9d1cc6f",
   "metadata": {},
   "outputs": [
    {
     "name": "stdout",
     "output_type": "stream",
     "text": [
      "2\n"
     ]
    }
   ],
   "source": [
    "n = 5\n",
    "result = arrangeCoins(n)\n",
    "print(result) \n"
   ]
  },
  {
   "cell_type": "code",
   "execution_count": null,
   "id": "4422d4fc-a7e2-482b-ae95-d4514aa2157e",
   "metadata": {},
   "outputs": [],
   "source": [
    "Question 6**\n",
    "Given an integer array nums sorted in **non-decreasing** order, return *an array of **the squares of each number** sorted in non-decreasing order*.\n",
    "\n",
    "**Example 1:**\n",
    "\n",
    "Input: nums = [-4,-1,0,3,10]\n",
    "\n",
    "Output: [0,1,9,16,100]\n",
    "\n",
    "**Explanation:** After squaring, the array becomes [16,1,0,9,100].\n",
    "After sorting, it becomes [0,1,9,16,100]\n",
    "\n",
    "Ans6-"
   ]
  },
  {
   "cell_type": "code",
   "execution_count": 11,
   "id": "9a95cbe8-bc0c-4c05-8202-00dae1f25f4e",
   "metadata": {},
   "outputs": [],
   "source": [
    "def sortedSquares(nums):\n",
    "    result = []\n",
    "    for num in nums:\n",
    "        square = num * num\n",
    "        result.append(square)\n",
    "    result.sort()\n",
    "    return result\n"
   ]
  },
  {
   "cell_type": "code",
   "execution_count": 12,
   "id": "e80b9abe-ea1c-460c-aace-1ff5a78e91e2",
   "metadata": {},
   "outputs": [
    {
     "name": "stdout",
     "output_type": "stream",
     "text": [
      "[0, 1, 9, 16, 100]\n"
     ]
    }
   ],
   "source": [
    "nums = [-4, -1, 0, 3, 10]\n",
    "print(sortedSquares(nums))\n"
   ]
  },
  {
   "cell_type": "code",
   "execution_count": null,
   "id": "a3df5e0b-f337-4e25-b9f9-c65516bda796",
   "metadata": {},
   "outputs": [],
   "source": [
    "*Question 7**\n",
    "You are given an m x n matrix M initialized with all 0's and an array of operations ops, where ops[i] = [ai, bi] means \n",
    "M[x][y] should be incremented by one for all 0 <= x < ai and 0 <= y < bi.\n",
    "\n",
    "Count and return *the number of maximum integers in the matrix after performing all the operations*\n",
    "\n",
    "**Example 1:**\n",
    "\n",
    "![q4.jpg](https://s3-us-west-2.amazonaws.com/secure.notion-static.com/4d0890d0-7bc7-4f59-be8e-352d9f3c1c52/q4.jpg)\n",
    "\n",
    "**Input:** m = 3, n = 3, ops = [[2,2],[3,3]]\n",
    "\n",
    "**Output:** 4\n",
    "\n",
    "**Explanation:** The maximum integer in M is 2, and there are four of it in M. So return 4.\n",
    "\n",
    "Ans7-"
   ]
  },
  {
   "cell_type": "code",
   "execution_count": 15,
   "id": "463fe4a1-5593-4754-989b-49a8bc6d3deb",
   "metadata": {},
   "outputs": [],
   "source": [
    "def maxCount(m: int, n: int, ops: int) -> int:\n",
    "    minRows = m\n",
    "    minCols = n\n",
    "    \n",
    "    for op in ops:\n",
    "        minRows = min(minRows, op[0])\n",
    "        minCols = min(minCols, op[1])\n",
    "    \n",
    "    return minRows * minCols\n"
   ]
  },
  {
   "cell_type": "code",
   "execution_count": 16,
   "id": "afd47e7b-35ab-45e1-975e-20c77bde5f9b",
   "metadata": {},
   "outputs": [
    {
     "data": {
      "text/plain": [
       "4"
      ]
     },
     "execution_count": 16,
     "metadata": {},
     "output_type": "execute_result"
    }
   ],
   "source": [
    "maxCount(3, 3, [[2,2],[3,3]]) \n"
   ]
  },
  {
   "cell_type": "code",
   "execution_count": null,
   "id": "ccad13d2-10a5-4ca4-903e-23fa1a3ae3e8",
   "metadata": {},
   "outputs": [],
   "source": [
    "Question 8**\n",
    "\n",
    "Given the array nums consisting of 2n elements in the form [x1,x2,...,xn,y1,y2,...,yn].\n",
    "\n",
    "*Return the array in the form* [x1,y1,x2,y2,...,xn,yn].\n",
    "\n",
    "**Example 1:**\n",
    "\n",
    "**Input:** nums = [2,5,1,3,4,7], n = 3\n",
    "\n",
    "**Output:** [2,3,5,4,1,7]\n",
    "\n",
    "**Explanation:** Since x1=2, x2=5, x3=1, y1=3, y2=4, y3=7 then the answer is [2,3,5,4,1,7].\n",
    "\n",
    "Ans8-"
   ]
  },
  {
   "cell_type": "code",
   "execution_count": 17,
   "id": "0914ccf6-7126-4a41-936d-3eebc7ef3207",
   "metadata": {},
   "outputs": [],
   "source": [
    "def shuffle(nums, n):\n",
    "    result = []\n",
    "    for i in range(n):\n",
    "        result.append(nums[i])\n",
    "        result.append(nums[i+n])\n",
    "    return result\n"
   ]
  },
  {
   "cell_type": "code",
   "execution_count": 18,
   "id": "1b2e626e-201e-415c-a660-658bca6ddd47",
   "metadata": {},
   "outputs": [
    {
     "name": "stdout",
     "output_type": "stream",
     "text": [
      "[2, 3, 5, 4, 1, 7]\n"
     ]
    }
   ],
   "source": [
    "nums = [2, 5, 1, 3, 4, 7]\n",
    "n = 3\n",
    "output = shuffle(nums, n)\n",
    "print(output)\n"
   ]
  },
  {
   "cell_type": "code",
   "execution_count": null,
   "id": "0230b6e9-e2c1-4f6f-ae9d-04802f7d6d63",
   "metadata": {},
   "outputs": [],
   "source": []
  }
 ],
 "metadata": {
  "kernelspec": {
   "display_name": "Python 3 (ipykernel)",
   "language": "python",
   "name": "python3"
  },
  "language_info": {
   "codemirror_mode": {
    "name": "ipython",
    "version": 3
   },
   "file_extension": ".py",
   "mimetype": "text/x-python",
   "name": "python",
   "nbconvert_exporter": "python",
   "pygments_lexer": "ipython3",
   "version": "3.10.8"
  }
 },
 "nbformat": 4,
 "nbformat_minor": 5
}
